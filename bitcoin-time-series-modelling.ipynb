{
 "cells": [
  {
   "cell_type": "code",
   "execution_count": 13,
   "metadata": {},
   "outputs": [
    {
     "name": "stdout",
     "output_type": "stream",
     "text": [
      "All libraries imported successfully\n"
     ]
    }
   ],
   "source": [
    "#import libraries \n",
    "import cryptowatch as cw\n",
    "import time\n",
    "import matplotlib\n",
    "import time \n",
    "import dateparser\n",
    "import pandas as pd\n",
    "import json\n",
    "import pytz\n",
    "import json\n",
    "from datetime import datetime\n",
    "from requests import Request, Session\n",
    "from requests.exceptions import ConnectionError, Timeout, TooManyRedirects \n",
    "\n",
    "print(\"All libraries imported successfully\")"
   ]
  },
  {
   "cell_type": "code",
   "execution_count": 31,
   "metadata": {},
   "outputs": [],
   "source": [
    "# #making API call - coin market cap\n",
    "# url = 'https://pro-api.coinmarketcap.com/v1/cryptocurrency/listings/latest'\n",
    "\n",
    "# parameters = {\n",
    "#     'start' : '1',\n",
    "#     'limit' : '1',\n",
    "#     'convert' : 'USD'\n",
    "# }\n",
    "\n",
    "# headers = {'Accepts' : 'application/json',\n",
    "#            'X-CMC_PRO_API_KEY' : 'ddb56a6a-2a9b-46bd-8e5d-813a0aebaae1'\n",
    "# }\n",
    "\n",
    "# session = Session()\n",
    "# session.headers.update(headers)\n",
    "\n",
    "# try:\n",
    "#   response = session.get(url, params=parameters)\n",
    "#   data = json.loads(response.text)\n",
    "#   print(data)\n",
    "# except (ConnectionError, Timeout, TooManyRedirects) as e:\n",
    "#   print(e)\n",
    "  "
   ]
  },
  {
   "cell_type": "code",
   "execution_count": 61,
   "metadata": {},
   "outputs": [
    {
     "name": "stdout",
     "output_type": "stream",
     "text": [
      "Successful Connection\n"
     ]
    }
   ],
   "source": [
    "#making api call - crypto watch \n",
    "\n",
    "cw.api_key = 'QSIYN3W065D5BWUA7AFR'\n",
    "\n",
    "bitcoin = cw.markets.list(\"kraken\")\n",
    "\n",
    "#checking for successful connection \n",
    "if '200' in str(bitcoin._http_response):\n",
    "    print(\"Successful Connection\")\n",
    "else: \n",
    "    print(\"Unsuccessful: {}\".format(bitcoin._http_response))\n"
   ]
  },
  {
   "cell_type": "code",
   "execution_count": 69,
   "metadata": {},
   "outputs": [
    {
     "name": "stdout",
     "output_type": "stream",
     "text": [
      "result\n",
      "allowance\n"
     ]
    }
   ],
   "source": [
    "#creating http response variable, transform to a dict and inspect keys\n",
    "bitcoin_response = bitcoin._http_response \n",
    "bitcoin_dict = bitcoin_response.json()\n",
    "\n",
    "\n",
    "\n",
    "for key in bitcoin_dict.keys():\n",
    "    print(key)"
   ]
  },
  {
   "cell_type": "code",
   "execution_count": 84,
   "metadata": {},
   "outputs": [
    {
     "name": "stdout",
     "output_type": "stream",
     "text": [
      "{'cost': 195160, 'remaining': 4000000000, 'remainingPaid': 15965747595, 'account': '14c65978-75fa-47d9-99e3-1c7ac7fe866d'}\n"
     ]
    },
    {
     "data": {
      "text/html": [
       "<div>\n",
       "<style scoped>\n",
       "    .dataframe tbody tr th:only-of-type {\n",
       "        vertical-align: middle;\n",
       "    }\n",
       "\n",
       "    .dataframe tbody tr th {\n",
       "        vertical-align: top;\n",
       "    }\n",
       "\n",
       "    .dataframe thead th {\n",
       "        text-align: right;\n",
       "    }\n",
       "</style>\n",
       "<table border=\"1\" class=\"dataframe\">\n",
       "  <thead>\n",
       "    <tr style=\"text-align: right;\">\n",
       "      <th></th>\n",
       "      <th>id</th>\n",
       "      <th>exchange</th>\n",
       "      <th>pair</th>\n",
       "      <th>active</th>\n",
       "      <th>route</th>\n",
       "    </tr>\n",
       "  </thead>\n",
       "  <tbody>\n",
       "    <tr>\n",
       "      <th>0</th>\n",
       "      <td>86</td>\n",
       "      <td>kraken</td>\n",
       "      <td>btceur</td>\n",
       "      <td>True</td>\n",
       "      <td>https://api.cryptowat.ch/markets/kraken/btceur</td>\n",
       "    </tr>\n",
       "    <tr>\n",
       "      <th>1</th>\n",
       "      <td>87</td>\n",
       "      <td>kraken</td>\n",
       "      <td>btcusd</td>\n",
       "      <td>True</td>\n",
       "      <td>https://api.cryptowat.ch/markets/kraken/btcusd</td>\n",
       "    </tr>\n",
       "    <tr>\n",
       "      <th>2</th>\n",
       "      <td>88</td>\n",
       "      <td>kraken</td>\n",
       "      <td>btcgbp</td>\n",
       "      <td>True</td>\n",
       "      <td>https://api.cryptowat.ch/markets/kraken/btcgbp</td>\n",
       "    </tr>\n",
       "    <tr>\n",
       "      <th>3</th>\n",
       "      <td>89</td>\n",
       "      <td>kraken</td>\n",
       "      <td>btcjpy</td>\n",
       "      <td>True</td>\n",
       "      <td>https://api.cryptowat.ch/markets/kraken/btcjpy</td>\n",
       "    </tr>\n",
       "    <tr>\n",
       "      <th>4</th>\n",
       "      <td>90</td>\n",
       "      <td>kraken</td>\n",
       "      <td>btccad</td>\n",
       "      <td>True</td>\n",
       "      <td>https://api.cryptowat.ch/markets/kraken/btccad</td>\n",
       "    </tr>\n",
       "    <tr>\n",
       "      <th>...</th>\n",
       "      <td>...</td>\n",
       "      <td>...</td>\n",
       "      <td>...</td>\n",
       "      <td>...</td>\n",
       "      <td>...</td>\n",
       "    </tr>\n",
       "    <tr>\n",
       "      <th>159</th>\n",
       "      <td>61983</td>\n",
       "      <td>kraken</td>\n",
       "      <td>usdchf</td>\n",
       "      <td>True</td>\n",
       "      <td>https://api.cryptowat.ch/markets/kraken/usdchf</td>\n",
       "    </tr>\n",
       "    <tr>\n",
       "      <th>160</th>\n",
       "      <td>61984</td>\n",
       "      <td>kraken</td>\n",
       "      <td>eurchf</td>\n",
       "      <td>True</td>\n",
       "      <td>https://api.cryptowat.ch/markets/kraken/eurchf</td>\n",
       "    </tr>\n",
       "    <tr>\n",
       "      <th>161</th>\n",
       "      <td>61985</td>\n",
       "      <td>kraken</td>\n",
       "      <td>eurgbp</td>\n",
       "      <td>True</td>\n",
       "      <td>https://api.cryptowat.ch/markets/kraken/eurgbp</td>\n",
       "    </tr>\n",
       "    <tr>\n",
       "      <th>162</th>\n",
       "      <td>61986</td>\n",
       "      <td>kraken</td>\n",
       "      <td>usdjpy</td>\n",
       "      <td>True</td>\n",
       "      <td>https://api.cryptowat.ch/markets/kraken/usdjpy</td>\n",
       "    </tr>\n",
       "    <tr>\n",
       "      <th>163</th>\n",
       "      <td>61987</td>\n",
       "      <td>kraken</td>\n",
       "      <td>usdcad</td>\n",
       "      <td>True</td>\n",
       "      <td>https://api.cryptowat.ch/markets/kraken/usdcad</td>\n",
       "    </tr>\n",
       "  </tbody>\n",
       "</table>\n",
       "<p>164 rows × 5 columns</p>\n",
       "</div>"
      ],
      "text/plain": [
       "        id exchange    pair  active  \\\n",
       "0       86   kraken  btceur    True   \n",
       "1       87   kraken  btcusd    True   \n",
       "2       88   kraken  btcgbp    True   \n",
       "3       89   kraken  btcjpy    True   \n",
       "4       90   kraken  btccad    True   \n",
       "..     ...      ...     ...     ...   \n",
       "159  61983   kraken  usdchf    True   \n",
       "160  61984   kraken  eurchf    True   \n",
       "161  61985   kraken  eurgbp    True   \n",
       "162  61986   kraken  usdjpy    True   \n",
       "163  61987   kraken  usdcad    True   \n",
       "\n",
       "                                              route  \n",
       "0    https://api.cryptowat.ch/markets/kraken/btceur  \n",
       "1    https://api.cryptowat.ch/markets/kraken/btcusd  \n",
       "2    https://api.cryptowat.ch/markets/kraken/btcgbp  \n",
       "3    https://api.cryptowat.ch/markets/kraken/btcjpy  \n",
       "4    https://api.cryptowat.ch/markets/kraken/btccad  \n",
       "..                                              ...  \n",
       "159  https://api.cryptowat.ch/markets/kraken/usdchf  \n",
       "160  https://api.cryptowat.ch/markets/kraken/eurchf  \n",
       "161  https://api.cryptowat.ch/markets/kraken/eurgbp  \n",
       "162  https://api.cryptowat.ch/markets/kraken/usdjpy  \n",
       "163  https://api.cryptowat.ch/markets/kraken/usdcad  \n",
       "\n",
       "[164 rows x 5 columns]"
      ]
     },
     "metadata": {},
     "output_type": "display_data"
    }
   ],
   "source": [
    "pd.set_option('display.max_columns', None)\n",
    "\n",
    "#checking allowance \n",
    "print(bitcoin_dict[\"allowance\"])\n",
    "\n",
    "#checking the result\n",
    "bitcoin_result_df = pd.DataFrame(bitcoin_dict[\"result\"])\n",
    "display(bitcoin_result_df)\n",
    "\n",
    "# def get_monthly_candle_data(exchange, pair):\n",
    "#     ticker = \"{}:{}\".format(exchange, pair).upper()\n",
    "#     candles = cw.markets.get(\n",
    "#                             ticker,  \n",
    "#                             periods = [\"1w\"]\n",
    "# )\n",
    "#     print(candles)\n",
    "\n",
    "# get_monthly_candle_data(\"KRAKEN\", \"BTCUSD\")\n",
    "\n"
   ]
  }
 ],
 "metadata": {
  "kernelspec": {
   "display_name": "Python 3",
   "language": "python",
   "name": "python3"
  },
  "language_info": {
   "codemirror_mode": {
    "name": "ipython",
    "version": 3
   },
   "file_extension": ".py",
   "mimetype": "text/x-python",
   "name": "python",
   "nbconvert_exporter": "python",
   "pygments_lexer": "ipython3",
   "version": "3.7.6"
  }
 },
 "nbformat": 4,
 "nbformat_minor": 4
}
